{
 "metadata": {
  "name": "",
  "signature": "sha256:08114da111f98368e62993af1b1f458504544773c7537b5f5997f1f5c19ce9fc"
 },
 "nbformat": 3,
 "nbformat_minor": 0,
 "worksheets": [
  {
   "cells": [
    {
     "cell_type": "code",
     "collapsed": false,
     "input": [
      "from __future__ import division\n",
      "\n",
      "import pandas as pd\n",
      "import time\n",
      "import csv\n",
      "import numpy as np\n",
      "import datetime\n",
      "import re\n",
      "import warnings\n",
      "from panns import *\n",
      "\n",
      "warnings.filterwarnings(\"ignore\")"
     ],
     "language": "python",
     "metadata": {},
     "outputs": [],
     "prompt_number": 73
    },
    {
     "cell_type": "code",
     "collapsed": false,
     "input": [
      "str(datetime.datetime.now())"
     ],
     "language": "python",
     "metadata": {},
     "outputs": [
      {
       "metadata": {},
       "output_type": "pyout",
       "prompt_number": 13,
       "text": [
        "'2015-08-25 21:52:57.070312'"
       ]
      }
     ],
     "prompt_number": 13
    },
    {
     "cell_type": "code",
     "collapsed": false,
     "input": [
      "\n",
      "# # create an index of Euclidean distance\n",
      "# p = PannsIndex(dimension=700, metric='euclidean')\n",
      "\n",
      "# # generate a 1000000 x 700 dataset\n",
      "# for i in xrange(10):\n",
      "#     v = gaussian_vector(700)\n",
      "#     p.add_vector(v)\n",
      "\n",
      "# # build an index of 50 trees and save to a file\n",
      "# p.build(10)\n"
     ],
     "language": "python",
     "metadata": {},
     "outputs": [],
     "prompt_number": 27
    },
    {
     "cell_type": "code",
     "collapsed": false,
     "input": [
      "gaussian_vector(7)"
     ],
     "language": "python",
     "metadata": {},
     "outputs": [
      {
       "metadata": {},
       "output_type": "pyout",
       "prompt_number": 34,
       "text": [
        "array([-0.13841736,  0.08376223, -1.27436031,  2.13569151,  0.49947418,\n",
        "       -0.89329344,  1.98679238])"
       ]
      }
     ],
     "prompt_number": 34
    },
    {
     "cell_type": "code",
     "collapsed": false,
     "input": [
      "str(datetime.datetime.now())"
     ],
     "language": "python",
     "metadata": {},
     "outputs": []
    },
    {
     "cell_type": "code",
     "collapsed": false,
     "input": [
      "#1000 : 7s\n",
      "#10000: 67s\n",
      "#100000"
     ],
     "language": "python",
     "metadata": {},
     "outputs": []
    },
    {
     "cell_type": "code",
     "collapsed": false,
     "input": [
      "behaviors = pd.read_csv('./data/20150701094451-Behavior_training.csv')\n",
      "behaviors_wide = pd.pivot_table(behaviors, values=[\"mv_ratio\"],\n",
      "                             index=[\"user_id\", \"video_id\"],\n",
      "                             aggfunc=np.mean).unstack().fillna(0)"
     ],
     "language": "python",
     "metadata": {},
     "outputs": [],
     "prompt_number": 91
    },
    {
     "cell_type": "code",
     "collapsed": false,
     "input": [
      "behaviors_wide[:5]"
     ],
     "language": "python",
     "metadata": {},
     "outputs": [
      {
       "html": [
        "<div style=\"max-width:1500px;overflow:auto;\">\n",
        "<table border=\"1\" class=\"dataframe\">\n",
        "  <thead>\n",
        "    <tr>\n",
        "      <th></th>\n",
        "      <th colspan=\"21\" halign=\"left\">mv_ratio</th>\n",
        "    </tr>\n",
        "    <tr>\n",
        "      <th>video_id</th>\n",
        "      <th>TV001</th>\n",
        "      <th>TV002</th>\n",
        "      <th>TV003</th>\n",
        "      <th>TV004</th>\n",
        "      <th>TV005</th>\n",
        "      <th>TV006</th>\n",
        "      <th>TV007</th>\n",
        "      <th>TV008</th>\n",
        "      <th>TV009</th>\n",
        "      <th>TV010</th>\n",
        "      <th>...</th>\n",
        "      <th>TV614</th>\n",
        "      <th>TV615</th>\n",
        "      <th>TV616</th>\n",
        "      <th>TV617</th>\n",
        "      <th>TV618</th>\n",
        "      <th>TV619</th>\n",
        "      <th>TV620</th>\n",
        "      <th>TV621</th>\n",
        "      <th>TV622</th>\n",
        "      <th>TV623</th>\n",
        "    </tr>\n",
        "    <tr>\n",
        "      <th>user_id</th>\n",
        "      <th></th>\n",
        "      <th></th>\n",
        "      <th></th>\n",
        "      <th></th>\n",
        "      <th></th>\n",
        "      <th></th>\n",
        "      <th></th>\n",
        "      <th></th>\n",
        "      <th></th>\n",
        "      <th></th>\n",
        "      <th></th>\n",
        "      <th></th>\n",
        "      <th></th>\n",
        "      <th></th>\n",
        "      <th></th>\n",
        "      <th></th>\n",
        "      <th></th>\n",
        "      <th></th>\n",
        "      <th></th>\n",
        "      <th></th>\n",
        "      <th></th>\n",
        "    </tr>\n",
        "  </thead>\n",
        "  <tbody>\n",
        "    <tr>\n",
        "      <th>1</th>\n",
        "      <td>0</td>\n",
        "      <td>0</td>\n",
        "      <td>0</td>\n",
        "      <td>0</td>\n",
        "      <td>0</td>\n",
        "      <td>0</td>\n",
        "      <td>0</td>\n",
        "      <td>0</td>\n",
        "      <td>0</td>\n",
        "      <td>0</td>\n",
        "      <td>...</td>\n",
        "      <td>0</td>\n",
        "      <td>0</td>\n",
        "      <td>0</td>\n",
        "      <td>0</td>\n",
        "      <td>29</td>\n",
        "      <td>0</td>\n",
        "      <td>0</td>\n",
        "      <td>0</td>\n",
        "      <td>0</td>\n",
        "      <td>0</td>\n",
        "    </tr>\n",
        "    <tr>\n",
        "      <th>2</th>\n",
        "      <td>0</td>\n",
        "      <td>0</td>\n",
        "      <td>0</td>\n",
        "      <td>0</td>\n",
        "      <td>0</td>\n",
        "      <td>0</td>\n",
        "      <td>0</td>\n",
        "      <td>0</td>\n",
        "      <td>0</td>\n",
        "      <td>0</td>\n",
        "      <td>...</td>\n",
        "      <td>0</td>\n",
        "      <td>0</td>\n",
        "      <td>0</td>\n",
        "      <td>0</td>\n",
        "      <td>0</td>\n",
        "      <td>0</td>\n",
        "      <td>0</td>\n",
        "      <td>0</td>\n",
        "      <td>0</td>\n",
        "      <td>0</td>\n",
        "    </tr>\n",
        "    <tr>\n",
        "      <th>3</th>\n",
        "      <td>0</td>\n",
        "      <td>0</td>\n",
        "      <td>0</td>\n",
        "      <td>0</td>\n",
        "      <td>0</td>\n",
        "      <td>0</td>\n",
        "      <td>0</td>\n",
        "      <td>0</td>\n",
        "      <td>0</td>\n",
        "      <td>0</td>\n",
        "      <td>...</td>\n",
        "      <td>0</td>\n",
        "      <td>0</td>\n",
        "      <td>0</td>\n",
        "      <td>0</td>\n",
        "      <td>0</td>\n",
        "      <td>0</td>\n",
        "      <td>0</td>\n",
        "      <td>0</td>\n",
        "      <td>0</td>\n",
        "      <td>0</td>\n",
        "    </tr>\n",
        "    <tr>\n",
        "      <th>4</th>\n",
        "      <td>0</td>\n",
        "      <td>0</td>\n",
        "      <td>0</td>\n",
        "      <td>0</td>\n",
        "      <td>0</td>\n",
        "      <td>0</td>\n",
        "      <td>0</td>\n",
        "      <td>0</td>\n",
        "      <td>0</td>\n",
        "      <td>0</td>\n",
        "      <td>...</td>\n",
        "      <td>0</td>\n",
        "      <td>0</td>\n",
        "      <td>0</td>\n",
        "      <td>0</td>\n",
        "      <td>0</td>\n",
        "      <td>0</td>\n",
        "      <td>0</td>\n",
        "      <td>0</td>\n",
        "      <td>0</td>\n",
        "      <td>0</td>\n",
        "    </tr>\n",
        "    <tr>\n",
        "      <th>6</th>\n",
        "      <td>0</td>\n",
        "      <td>0</td>\n",
        "      <td>0</td>\n",
        "      <td>0</td>\n",
        "      <td>0</td>\n",
        "      <td>0</td>\n",
        "      <td>0</td>\n",
        "      <td>0</td>\n",
        "      <td>0</td>\n",
        "      <td>0</td>\n",
        "      <td>...</td>\n",
        "      <td>0</td>\n",
        "      <td>0</td>\n",
        "      <td>0</td>\n",
        "      <td>0</td>\n",
        "      <td>0</td>\n",
        "      <td>0</td>\n",
        "      <td>0</td>\n",
        "      <td>0</td>\n",
        "      <td>0</td>\n",
        "      <td>0</td>\n",
        "    </tr>\n",
        "  </tbody>\n",
        "</table>\n",
        "<p>5 rows \u00d7 587 columns</p>\n",
        "</div>"
       ],
       "metadata": {},
       "output_type": "pyout",
       "prompt_number": 92,
       "text": [
        "         mv_ratio                                                        ...   \\\n",
        "video_id    TV001 TV002 TV003 TV004 TV005 TV006 TV007 TV008 TV009 TV010  ...    \n",
        "user_id                                                                  ...    \n",
        "1               0     0     0     0     0     0     0     0     0     0  ...    \n",
        "2               0     0     0     0     0     0     0     0     0     0  ...    \n",
        "3               0     0     0     0     0     0     0     0     0     0  ...    \n",
        "4               0     0     0     0     0     0     0     0     0     0  ...    \n",
        "6               0     0     0     0     0     0     0     0     0     0  ...    \n",
        "\n",
        "                                                                      \n",
        "video_id TV614 TV615 TV616 TV617 TV618 TV619 TV620 TV621 TV622 TV623  \n",
        "user_id                                                               \n",
        "1            0     0     0     0    29     0     0     0     0     0  \n",
        "2            0     0     0     0     0     0     0     0     0     0  \n",
        "3            0     0     0     0     0     0     0     0     0     0  \n",
        "4            0     0     0     0     0     0     0     0     0     0  \n",
        "6            0     0     0     0     0     0     0     0     0     0  \n",
        "\n",
        "[5 rows x 587 columns]"
       ]
      }
     ],
     "prompt_number": 92
    },
    {
     "cell_type": "code",
     "collapsed": false,
     "input": [
      "#[x for x in behaviors_wide.values]"
     ],
     "language": "python",
     "metadata": {},
     "outputs": [],
     "prompt_number": 94
    },
    {
     "cell_type": "code",
     "collapsed": false,
     "input": [
      "len(behaviors_wide.values)"
     ],
     "language": "python",
     "metadata": {},
     "outputs": [
      {
       "metadata": {},
       "output_type": "pyout",
       "prompt_number": 95,
       "text": [
        "753272"
       ]
      }
     ],
     "prompt_number": 95
    },
    {
     "cell_type": "code",
     "collapsed": false,
     "input": [
      "# create an index of Euclidean distance\n",
      "videos_count = len(behaviors.video_id.unique())\n",
      "videos_count"
     ],
     "language": "python",
     "metadata": {},
     "outputs": [
      {
       "metadata": {},
       "output_type": "pyout",
       "prompt_number": 97,
       "text": [
        "587"
       ]
      }
     ],
     "prompt_number": 97
    },
    {
     "cell_type": "code",
     "collapsed": false,
     "input": [
      "users_count = len(behaviors.user_id.unique())\n",
      "users_count"
     ],
     "language": "python",
     "metadata": {},
     "outputs": [
      {
       "metadata": {},
       "output_type": "pyout",
       "prompt_number": 98,
       "text": [
        "753272"
       ]
      }
     ],
     "prompt_number": 98
    },
    {
     "cell_type": "code",
     "collapsed": false,
     "input": [
      "p = PannsIndex(dimension=videos_count, metric='euclidean')\n",
      "for i in range(0,users_count):\n",
      "    p.add_vector(behaviors_wide.values[i])\n",
      "len(p.mtx)"
     ],
     "language": "python",
     "metadata": {},
     "outputs": [
      {
       "metadata": {},
       "output_type": "pyout",
       "prompt_number": 104,
       "text": [
        "753272"
       ]
      }
     ],
     "prompt_number": 104
    },
    {
     "cell_type": "code",
     "collapsed": false,
     "input": [
      "# p = PannsIndex(dimension=videos_count, metric='euclidean')\n",
      "# p.load_matrix([x for x in behaviors_wide.values])\n",
      "# # build an index of 50 trees and save to a file"
     ],
     "language": "python",
     "metadata": {},
     "outputs": [
      {
       "metadata": {},
       "output_type": "pyout",
       "prompt_number": 102,
       "text": [
        "10001"
       ]
      }
     ],
     "prompt_number": 102
    },
    {
     "cell_type": "code",
     "collapsed": false,
     "input": [
      "print str(datetime.datetime.now())\n",
      "p.build(10)\n",
      "print str(datetime.datetime.now())"
     ],
     "language": "python",
     "metadata": {},
     "outputs": []
    },
    {
     "cell_type": "code",
     "collapsed": false,
     "input": [],
     "language": "python",
     "metadata": {},
     "outputs": []
    }
   ],
   "metadata": {}
  }
 ]
}